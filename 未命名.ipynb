{
 "cells": [
  {
   "cell_type": "code",
   "execution_count": 1,
   "metadata": {},
   "outputs": [],
   "source": [
    "class Point:\n",
    "\n",
    "    def __init__(self, label: str, ggb_command:str, coordinate: tuple, active=True):\n",
    "\n",
    "        \"\"\"\n",
    "        Args:\n",
    "            label: 标签。如A，B，C，D...\n",
    "            coordinate: 坐标 在初始化时拆包.\n",
    "            active: 是否可变 active 为 True 则此对象可直接赋值.\n",
    "        \"\"\"\n",
    "        self.label = label\n",
    "        self.__x, self.__y = coordinate\n",
    "        self.ggb_command = ggb_command\n",
    "        self.active = active\n",
    "        self.ggb_command = \"%s = (%.2f, %.2f)\" % (self.label, self.x, self.y)\n",
    "\n",
    "    @property\n",
    "    def coordinate(self) -> tuple:\n",
    "        return (self.__x, self.__y)\n",
    "\n",
    "    @property\n",
    "    def x(self):\n",
    "        return self.__x\n",
    "\n",
    "    @x.setter\n",
    "    def x(self, value):\n",
    "        if not isinstance(value, float):\n",
    "            raise ValueError(\"x must be a float\")\n",
    "        else:\n",
    "            self.__x = value\n",
    "\n",
    "    @property\n",
    "    def y(self):\n",
    "        return self.__y\n",
    "\n",
    "    @y.setter\n",
    "    def y(self, value):\n",
    "        if not isinstance(value, float):\n",
    "            raise ValueError(\"y must be a float\")\n",
    "        else:\n",
    "            self.__y = value\n",
    "\n",
    "    def __repr__(self):\n",
    "        return \"%s: (%.2f, %.2f), active: %s\" % (self.label, self.x, self.y, self.active)\n",
    "\n",
    "    def __add__(self, other):\n",
    "        if isinstance(other, Point):\n",
    "            def generator():\n",
    "                x = self.x + other.x\n",
    "                y = self.y + other.y\n",
    "                return (x, y)\n",
    "            return generator\n",
    "\n",
    "    def __radd__(self, other):\n",
    "\n",
    "        if isinstance(other(), tuple):\n",
    "            def generator():\n",
    "                x = other()[0] + self.x\n",
    "                y = other()[1] + self.y\n",
    "                return (x, y)\n",
    "            return generator\n",
    "\n",
    "    def __sub__(self, other):\n",
    "        if isinstance(other, Point):\n",
    "            def generator():\n",
    "                x = self.x - other.x\n",
    "                y = self.y - other.y\n",
    "                return (x, y)\n",
    "            return generator\n",
    "\n",
    "\n",
    "class DependentPoint:\n",
    "\n",
    "    def __init__(self, label: str, ggb_command:str, generator: callable, active: bool):\n",
    "        \"\"\"\n",
    "        Args:\n",
    "            label: 标签。如A，B，C，D...\n",
    "            generator: 地址\n",
    "            active: 是否可变 active 为 False 则此对象不接受赋值.\n",
    "        \"\"\"\n",
    "\n",
    "        self.label = label\n",
    "        self.generator = generator\n",
    "        self.ggb_command = ggb_command\n",
    "        self.active = active\n",
    "\n",
    "    @property\n",
    "    def x(self) -> float:\n",
    "        return self.generator()[0]\n",
    "\n",
    "    @property\n",
    "    def y(self) -> float:\n",
    "        return self.generator()[1]\n",
    "\n",
    "    @property\n",
    "    def coordinate(self) -> tuple:\n",
    "        return self.generator()\n",
    "\n",
    "    def __repr__(self) -> str:\n",
    "        return \"%s: (%.2f, %.2f)\" % (self.label, self.x, self.y)"
   ]
  },
  {
   "cell_type": "code",
   "execution_count": 4,
   "metadata": {},
   "outputs": [],
   "source": [
    "A = Point(label=\"A\",ggb_command=\"A=(1,1)\",coordinate=(1,1), active=True)"
   ]
  },
  {
   "cell_type": "code",
   "execution_count": 5,
   "metadata": {},
   "outputs": [],
   "source": [
    "B = Point(label=\"A\",ggb_command=\"A=(4,1)\",coordinate=(4,1), active=True)"
   ]
  },
  {
   "cell_type": "code",
   "execution_count": 6,
   "metadata": {},
   "outputs": [],
   "source": [
    "C = Point(label=\"A\",ggb_command=\"A=(5,3)\",coordinate=(5,3), active=True)"
   ]
  },
  {
   "cell_type": "code",
   "execution_count": 16,
   "metadata": {},
   "outputs": [],
   "source": [
    "D = DependentPoint(label=\"D\", ggb_command=\"D=C-B+A\", generator=C-B+A, active=False)"
   ]
  },
  {
   "cell_type": "code",
   "execution_count": 18,
   "metadata": {},
   "outputs": [
    {
     "data": {
      "text/plain": [
       "(2, 3)"
      ]
     },
     "execution_count": 18,
     "metadata": {},
     "output_type": "execute_result"
    }
   ],
   "source": [
    "D.coordinate"
   ]
  },
  {
   "cell_type": "code",
   "execution_count": 19,
   "metadata": {},
   "outputs": [
    {
     "data": {
      "text/plain": [
       "D: (2.00, 3.00)"
      ]
     },
     "execution_count": 19,
     "metadata": {},
     "output_type": "execute_result"
    }
   ],
   "source": [
    "D\n"
   ]
  },
  {
   "cell_type": "code",
   "execution_count": 20,
   "metadata": {},
   "outputs": [
    {
     "data": {
      "text/plain": [
       "A: (1.00, 1.00), active: True"
      ]
     },
     "execution_count": 20,
     "metadata": {},
     "output_type": "execute_result"
    }
   ],
   "source": [
    "A"
   ]
  },
  {
   "cell_type": "code",
   "execution_count": 22,
   "metadata": {},
   "outputs": [],
   "source": [
    "A.x = 2.0"
   ]
  },
  {
   "cell_type": "code",
   "execution_count": 23,
   "metadata": {},
   "outputs": [
    {
     "data": {
      "text/plain": [
       "A: (2.00, 1.00), active: True"
      ]
     },
     "execution_count": 23,
     "metadata": {},
     "output_type": "execute_result"
    }
   ],
   "source": [
    "A"
   ]
  },
  {
   "cell_type": "code",
   "execution_count": 24,
   "metadata": {},
   "outputs": [
    {
     "data": {
      "text/plain": [
       "D: (3.00, 3.00)"
      ]
     },
     "execution_count": 24,
     "metadata": {},
     "output_type": "execute_result"
    }
   ],
   "source": [
    "D"
   ]
  },
  {
   "cell_type": "code",
   "execution_count": null,
   "metadata": {},
   "outputs": [],
   "source": []
  }
 ],
 "metadata": {
  "kernelspec": {
   "display_name": "Python 3",
   "language": "python",
   "name": "python3"
  },
  "language_info": {
   "codemirror_mode": {
    "name": "ipython",
    "version": 3
   },
   "file_extension": ".py",
   "mimetype": "text/x-python",
   "name": "python",
   "nbconvert_exporter": "python",
   "pygments_lexer": "ipython3",
   "version": "3.6.8"
  }
 },
 "nbformat": 4,
 "nbformat_minor": 4
}
